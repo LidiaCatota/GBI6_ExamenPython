{
 "cells": [
  {
   "cell_type": "markdown",
   "metadata": {},
   "source": [
    "<img src=\"https://ecogenomics.github.io/CheckM/img/checkm.png\" width=300 height=240 />\n",
    "\n",
    "# EXAMEN PARCIAL PYTHON\n",
    "    \n",
    "\n",
    "## GBI6-2021II: BIOINFORMÁTICA\n",
    "\n",
    "**Apellidos, Nombres** <--- CAMBIE POR LOS QUE CORRESPONDA A SUS DATOS\n",
    "\n",
    "**03-08-2022**"
   ]
  },
  {
   "cell_type": "markdown",
   "metadata": {},
   "source": [
    "<font color='red'>Color de texto</font>\n"
   ]
  },
  {
   "cell_type": "markdown",
   "metadata": {},
   "source": [
    "### REQUERIMIENTOS PARA EL EXAMEN\n",
    "\n",
    "Utilice de preferencia ```Jupyter``` de Anaconda, dado que tienen que hacer un control de cambios en cada pregunta. \n",
    "\n",
    "Para este examen se requiere dos documentos: \n",
    "\n",
    "1. Archivo ```miningscience.py``` donde tendrá dos funciones:\n",
    "\n",
    "2. Archivo ```2022I_GBI6_ExamenPython``` donde se llamará las funciones y se obtendrá resultados."
   ]
  },
  {
   "cell_type": "markdown",
   "metadata": {},
   "source": [
    "## Ejercicio 0 [0.5 puntos]\n",
    "Realice cambios al cuaderno de jupyter: \n",
    "- Agregue el logo de la Universidad\n",
    "- Coloque sus datos personales \n",
    "- Escriba una **tabla** con las características de su computador \n"
   ]
  },
  {
   "cell_type": "markdown",
   "metadata": {},
   "source": [
    "## Ejercicio 1 [2 puntos]\n",
    "Cree el archivo ```miningscience.py``` con las siguientes dos funciones:\n",
    "    \n",
    "i. ```download_pubmed```: para descargar la data de PubMed utilizando el **ENTREZ** de Biopython. El parámetro de entrada para la función es el ```keyword```. \n",
    "    \n",
    "ii. ```map_science```: para su data replique el ejemplo de [MapOfScience](https://github.com/CSB-book/CSB/blob/master/regex/solutions/MapOfScience_solution.ipynb), donde los puntos resaltados son al menos 5 países\n",
    "\n",
    "iii *Cree un docstring para cada función.* \n",
    "\n",
    "Luego de crear las funciones, cargue el módulo ```miningscience``` como ```msc``` e **imprima docstring de cada función**.\n"
   ]
  },
  {
   "cell_type": "code",
   "execution_count": 1,
   "metadata": {},
   "outputs": [],
   "source": [
    "# Escriba aquí su código para el ejercicio 1\n",
    "\n",
    "import Bio\n",
    "from Bio.Seq import Seq\n",
    "from Bio import Entrez\n",
    "import re\n",
    "\n",
    "def download_pubmed (keyword):\n",
    "    \"\"\"\n",
    "    Funcion que pide como entrada las palabra de busqueda en tipo \"str\" en la base de datos de PUBMED y como output crea un documento \n",
    "    que contiene informcacion de la  busqueda\n",
    "    \"\"\" \n",
    "    Entrez.email = \"lidia.catota@est.ikiam.edu.ec\"\n",
    "    handle = Entrez.esearch(db=\"pubmed\", \n",
    "                        term=keyword+\"[Title]\",## se trabajo unicamente con titulos para delimitar la informacion y evitar gasto computacional \n",
    "                        retmax=543,\n",
    "                        usehistory=\"y\")\n",
    "    record = Entrez.read(handle)\n",
    "    id_list = record[\"IdList\"]\n",
    "    webenv = record[\"WebEnv\"]\n",
    "    query_key = record[\"QueryKey\"]\n",
    "    handle = Entrez.efetch(db=\"pubmed\",\n",
    "                       rettype=\"medline\", \n",
    "                       retmode=\"text\", \n",
    "                       retstart=0,\n",
    "                       retmax=543, \n",
    "                       webenv=webenv,\n",
    "                       query_key=query_key)\n",
    "\n",
    "    out_handle = open(\"data/\"+keyword, \"w\")\n",
    "    data = handle.read()\n",
    "    handle.close()\n",
    "    out_handle.write(data)\n",
    "    out_handle.close()\n",
    "    return id_list\n",
    "\n",
    "import re \n",
    "import csv \n",
    "import matplotlib.pyplot as plt\n",
    "from geopy.geocoders import Nominatim\n",
    "from collections import Counter\n",
    "def map_science(data):\n",
    "    \"\"\"\n",
    "    Funcion que pide como entrada la data de la funcion download_pubmed() y como resultado muestra un grafico de dispersion \n",
    "    con la nacionalidad.  \n",
    "    \"\"\" \n",
    "    with open(\"data/\"+data, errors=\"ignore\") as l: \n",
    "        texto = l.read()\n",
    "    texto = re.sub(r\"\\n\\s{6}\", \" \", texto)\n",
    "    countries_1 = re.findall (r\"AD\\s{2}-\\s[A-Za-z].*,\\s([A-Za-z]*)\\.\\s\", texto)\n",
    "    unique_countries = list(set(countries_1))\n",
    "    conteo=Counter(countries_1)\n",
    "    resultado={}\n",
    "    ## crearemos un diccionario que tendra su key (pais), con su respectivo values (contador)\n",
    "    for clave in conteo:  \n",
    "        valor=conteo[clave]\n",
    "        if valor > 1:\n",
    "            resultado[clave] = valor\n",
    "    #colocamos una funcion que nos responda con la longitud y latitud de los paises encontrados\n",
    "    lugar = Nominatim(user_agent=\"my_user_agent\")\n",
    "    long = []\n",
    "    lat = []\n",
    "    count = []\n",
    "    for i in resultado.keys():\n",
    "        lugar = Nominatim(user_agent=\"my_user_agent\")\n",
    "        loc = lugar.geocode(i)\n",
    "        long.append(loc.longitude)\n",
    "        lat.append(loc.latitude)\n",
    "    for i in resultado.values(): \n",
    "        count.append(i*100)\n",
    "    #return (count)\n",
    "    plt.scatter(long, lat, s = count, c=count)\n",
    "    plt.colorbar()\n",
    "    ## valores de referencia de cinco paises \n",
    "    ard = dict(arrowstyle=\"->\")\n",
    "    plt.annotate('Ecuador', xy = (-79.3666965, -1.3397668), \n",
    "               xytext = (-80.25, 20.05), arrowprops = ard)\n",
    "    plt.annotate('USA', xy = ( -74.006, 40.714), \n",
    "               xytext = (-40, 37.4292), arrowprops= ard)\n",
    "    plt.annotate('Canada', xy = (-107.991707, 61.0666922), \n",
    "               xytext = (-73.1106, 48.3736), arrowprops= ard)\n",
    "    plt.annotate('Japon', xy = (138.252924, 36.204824), \n",
    "               xytext = (-100.6847, 30.8369), arrowprops= ard)\n",
    "    plt.annotate('Egipto', xy = (26.820553, 30.802498), \n",
    "               xytext = (10.33, 47.61), arrowprops= ard)\n",
    "    params = plt.gcf()\n",
    "    plSize = params.get_size_inches()\n",
    "    params.set_size_inches( (plSize[0] * 3, plSize[1] * 3) )\n",
    "    return (plt.savefig(\"img/\"+data, dpi=150, bbox_inches='tight'))\n",
    "    plt.show()\n",
    "\n",
    "\n",
    "\n",
    "\n",
    "\n",
    "\n",
    "\n",
    "\n",
    "\n",
    "\n"
   ]
  },
  {
   "cell_type": "code",
   "execution_count": 5,
   "metadata": {},
   "outputs": [
    {
     "name": "stdout",
     "output_type": "stream",
     "text": [
      "Help on function download_pubmed in module __main__:\n",
      "\n",
      "download_pubmed(keyword)\n",
      "    Funcion que pide como entrada la frase de busqueda en la base de datos del NCBI, especificamente PUBMED y como output crea un documento \n",
      "    que contiene informcacion de la  busqueda\n",
      "\n",
      "Help on function map_science in module __main__:\n",
      "\n",
      "map_science(data)\n",
      "    Funcion que pide como entrada la data de la funcion download_pubmed y como resultado muestra un grafico de dispersion \n",
      "    con la nacionalidad. Los puntos del grafico son mas grandes acorde cambiaba la frecuencia.\n",
      "\n"
     ]
    }
   ],
   "source": [
    "import miningscience as msc \n",
    "help(download_pubmed)\n",
    "help(map_science)"
   ]
  },
  {
   "cell_type": "markdown",
   "metadata": {},
   "source": [
    "\n",
    "## Ejercicio 2 [2 puntos]\n",
    "\n",
    "\n",
    "Utilice dos veces la función ```download_pubmed``` para: \n",
    "\n",
    "- Descargar la data, utilizando los keyword de su preferencia. \n",
    "- Guardar el archivo descargado en la carpeta ```data```.\n",
    "\n",
    "Para cada corrida, imprima lo siguiente: \n",
    "\n",
    "```python\n",
    "'El número artículos para KEYWORD es: XX' # Que se cargue con inserción de texto o valor que correspondea KEYWORD y XX\n",
    "```"
   ]
  },
  {
   "cell_type": "code",
   "execution_count": 4,
   "metadata": {},
   "outputs": [
    {
     "name": "stdout",
     "output_type": "stream",
     "text": [
      "el numero de articulos para Ecuador bioinformatics es: 2\n",
      "el numero de articulos para Ecuador structural es: 36\n"
     ]
    }
   ],
   "source": [
    "# Escriba aquí su código para el ejercicio 2\n",
    "\n",
    "download_pubmed (\"Ecuador bioinformatics\") \n",
    "\n",
    "print (\"el numero de articulos para Ecuador bioinformatics es:\", len(download_pubmed (\"Ecuador bioinformatics\")) )\n",
    "\n",
    "download_pubmed (\"Ecuador structural\")\n",
    "\n",
    "print (\"el numero de articulos para Ecuador structural es:\", len(download_pubmed (\"Ecuador structural\")) )\n",
    "\n",
    "\n",
    "\n",
    "\n",
    "\n",
    "\n",
    "\n",
    "\n",
    "\n",
    "\n",
    "\n"
   ]
  },
  {
   "cell_type": "markdown",
   "metadata": {},
   "source": [
    "## Ejercicio 3 [1.5 puntos]\n",
    "\n",
    "Utilice dos veces la función ```map_science``` para: \n",
    "\n",
    "- Visualizar un mapa para cada data descargada en el ejercicio 2.\n",
    "- Guardar los mapas en la carpeta ```img```"
   ]
  },
  {
   "cell_type": "code",
   "execution_count": 2,
   "metadata": {},
   "outputs": [
    {
     "data": {
      "image/png": "[encoded data removed]",
      "text/plain": [
       "<Figure size 1296x864 with 2 Axes>"
      ]
     },
     "metadata": {
      "needs_background": "light"
     },
     "output_type": "display_data"
    }
   ],
   "source": [
    "# Escriba aquí su código para el ejercicio 3\n",
    "map_science(\"Ecuador bioinformatics\")  \n"
   ]
  },
  {
   "cell_type": "code",
   "execution_count": 3,
   "metadata": {},
   "outputs": [
    {
     "data": {
      "image/png": "[encoded data removed]",
      "text/plain": [
       "<Figure size 1296x864 with 2 Axes>"
      ]
     },
     "metadata": {
      "needs_background": "light"
     },
     "output_type": "display_data"
    }
   ],
   "source": [
    "map_science(\"Ecuador structural\")"
   ]
  },
  {
   "cell_type": "markdown",
   "metadata": {},
   "source": [
    "## Ejercicio 4 [1 punto]\n",
    "\n",
    "**Interprete** los resultados de las figuras del **ejercicio 3**"
   ]
  },
  {
   "cell_type": "markdown",
   "metadata": {},
   "source": [
    "*Escriba la respuesta del ejercicio 5*\n",
    "En la primera busqueda de \"Ecuador bioinformatics\" se obtuvieron unicamente 2 articulos, por lo tanto, se obtuvieron solo cinco paises. La informacion es la esperada debido a que la bioinformatica en Ecuador es una area poco utilizada por los investigadores debido a varios factores, siendo la mas importante la limitada cantidad de recursos computacionales. \n",
    "\n",
    "En la segunda busqueda de \"Ecuador structural\" se obtuvieron 36 articulos. Siendo Ecuador el que mas veces aparecio debido al \"keyword\" utilizado. \n",
    "\n",
    ".\n",
    "\n",
    "."
   ]
  },
  {
   "cell_type": "markdown",
   "metadata": {},
   "source": [
    "## Ejercicio 5 [2 puntos]\n",
    "\n",
    "Para algún **gen de interés** (podría usar [Lista de genes por tipología](https://www.genome.jp/kegg/pathway.html#metabolism)), realice lo siguiente: \n",
    "\n",
    "1. Una búsqueda en la página del [NCBI nucleotide](https://www.ncbi.nlm.nih.gov/nucleotide/).\n",
    "\n",
    "2. Descargue el ```Accession List``` de su búsqueda y guarde en la carpeta ```data```.\n",
    "\n",
    "3. Cargue el ```Accession List``` en este notebook y haga una descarga de las secuencias de los **quince primeros** IDs de la accesión. \n",
    "\n",
    "4. Arme un árbol filogenético para los resultados del paso 3.\n",
    "\n",
    "5. Guarde su arbol filogénetico en la carpeta ```img```\n",
    "\n",
    "5. Interprete el árbol del paso 4. "
   ]
  },
  {
   "cell_type": "code",
   "execution_count": 3,
   "metadata": {},
   "outputs": [],
   "source": [
    "# Escriba aquí su código para el ejercicio 6\n",
    "\n",
    "\n",
    "\n",
    "\n",
    "\n",
    "\n",
    "\n",
    "\n",
    "\n",
    "\n",
    "\n",
    "\n"
   ]
  },
  {
   "cell_type": "markdown",
   "metadata": {},
   "source": [
    "**Escriba aquí la interpretación del árbol**"
   ]
  },
  {
   "cell_type": "markdown",
   "metadata": {},
   "source": [
    "## Ejercicio 6 [1 punto]\n",
    "\n",
    "\n",
    "1. Cree en GitHub un repositorio de nombre ```GBI6_ExamenPython```. \n",
    "2. Cree un archivo ```Readme.md``` que debe tener lo siguiente: \n",
    "- Datos personales\n",
    "- Características del computador\n",
    "- Versión de Python/Anaconda y de cada uno de los módulos/paquetes y utilizados\n",
    "- Explicación de la data utilizada\n",
    "- Un diagrama de procesos del módulo ```miningscience```\n",
    "3. Asegurarse que su repositorio tiene las carpetas ```data``` e ```img``` con los archivos que ha ido guardando en las preguntas anteriores.  \n",
    "4. Realice al menos 1 control de la versión (commits) por cada ejercicio (del 1 al 5), con un mensaje que inicie como: \n",
    "\n",
    "```sh \n",
    "Carlitos Alimaña ha realizado el ejercicio 1  \n",
    "```\n",
    "```sh \n",
    "Carlitos Alimaña ha realizado el ejercicio 2\n",
    "```\n",
    "```sh \n",
    "...\n",
    "```\n"
   ]
  },
  {
   "cell_type": "code",
   "execution_count": null,
   "metadata": {},
   "outputs": [],
   "source": []
  }
 ],
 "metadata": {
  "kernelspec": {
   "display_name": "Python 3 (ipykernel)",
   "language": "python",
   "name": "python3"
  },
  "language_info": {
   "codemirror_mode": {
    "name": "ipython",
    "version": 3
   },
   "file_extension": ".py",
   "mimetype": "text/x-python",
   "name": "python",
   "nbconvert_exporter": "python",
   "pygments_lexer": "ipython3",
   "version": "3.10.6"
  },
  "latex_envs": {
   "LaTeX_envs_menu_present": true,
   "autoclose": false,
   "autocomplete": true,
   "bibliofile": "biblio.bib",
   "cite_by": "apalike",
   "current_citInitial": 1,
   "eqLabelWithNumbers": true,
   "eqNumInitial": 1,
   "hotkeys": {
    "equation": "Ctrl-E",
    "itemize": "Ctrl-I"
   },
   "labels_anchors": false,
   "latex_user_defs": false,
   "report_style_numbering": false,
   "user_envs_cfg": false
  },
  "toc": {
   "base_numbering": 1,
   "nav_menu": {},
   "number_sections": true,
   "sideBar": false,
   "skip_h1_title": false,
   "title_cell": "Table of Contents",
   "title_sidebar": "Contents",
   "toc_cell": false,
   "toc_position": {
    "height": "1152.67px",
    "left": "41px",
    "top": "110px",
    "width": "253.458px"
   },
   "toc_section_display": true,
   "toc_window_display": false
  },
  "varInspector": {
   "cols": {
    "lenName": 16,
    "lenType": 16,
    "lenVar": 40
   },
   "kernels_config": {
    "python": {
     "delete_cmd_postfix": "",
     "delete_cmd_prefix": "del ",
     "library": "var_list.py",
     "varRefreshCmd": "print(var_dic_list())"
    },
    "r": {
     "delete_cmd_postfix": ") ",
     "delete_cmd_prefix": "rm(",
     "library": "var_list.r",
     "varRefreshCmd": "cat(var_dic_list()) "
    }
   },
   "types_to_exclude": [
    "module",
    "function",
    "builtin_function_or_method",
    "instance",
    "_Feature"
   ],
   "window_display": false
  }
 },
 "nbformat": 4,
 "nbformat_minor": 4
}
